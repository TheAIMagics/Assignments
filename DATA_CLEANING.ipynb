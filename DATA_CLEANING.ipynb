{
 "cells": [
  {
   "cell_type": "code",
   "execution_count": 1,
   "id": "cd3002a8",
   "metadata": {},
   "outputs": [],
   "source": [
    "import pandas as pd\n",
    "import numpy as np\n",
    "import matplotlib.pyplot as plt\n",
    "import seaborn as sns"
   ]
  },
  {
   "cell_type": "code",
   "execution_count": 2,
   "id": "4937ac80",
   "metadata": {},
   "outputs": [],
   "source": [
    "df = pd.read_csv('accidents.csv')"
   ]
  },
  {
   "cell_type": "markdown",
   "id": "3abf492d",
   "metadata": {},
   "source": [
    "#### Statistical Description of each column"
   ]
  },
  {
   "cell_type": "code",
   "execution_count": 4,
   "id": "eea9376e",
   "metadata": {},
   "outputs": [
    {
     "data": {
      "text/html": [
       "<div>\n",
       "<style scoped>\n",
       "    .dataframe tbody tr th:only-of-type {\n",
       "        vertical-align: middle;\n",
       "    }\n",
       "\n",
       "    .dataframe tbody tr th {\n",
       "        vertical-align: top;\n",
       "    }\n",
       "\n",
       "    .dataframe thead th {\n",
       "        text-align: right;\n",
       "    }\n",
       "</style>\n",
       "<table border=\"1\" class=\"dataframe\">\n",
       "  <thead>\n",
       "    <tr style=\"text-align: right;\">\n",
       "      <th></th>\n",
       "      <th>Severity</th>\n",
       "      <th>Start_Lat</th>\n",
       "      <th>Start_Lng</th>\n",
       "      <th>End_Lat</th>\n",
       "      <th>End_Lng</th>\n",
       "      <th>Distance(mi)</th>\n",
       "      <th>Number</th>\n",
       "      <th>Temperature(F)</th>\n",
       "      <th>Wind_Chill(F)</th>\n",
       "      <th>Humidity(%)</th>\n",
       "      <th>Pressure(in)</th>\n",
       "      <th>Visibility(mi)</th>\n",
       "      <th>Wind_Speed(mph)</th>\n",
       "      <th>Precipitation(in)</th>\n",
       "    </tr>\n",
       "  </thead>\n",
       "  <tbody>\n",
       "    <tr>\n",
       "      <th>count</th>\n",
       "      <td>2.845342e+06</td>\n",
       "      <td>2.845342e+06</td>\n",
       "      <td>2.845342e+06</td>\n",
       "      <td>2.845342e+06</td>\n",
       "      <td>2.845342e+06</td>\n",
       "      <td>2.845342e+06</td>\n",
       "      <td>1.101431e+06</td>\n",
       "      <td>2.776068e+06</td>\n",
       "      <td>2.375699e+06</td>\n",
       "      <td>2.772250e+06</td>\n",
       "      <td>2.786142e+06</td>\n",
       "      <td>2.774796e+06</td>\n",
       "      <td>2.687398e+06</td>\n",
       "      <td>2.295884e+06</td>\n",
       "    </tr>\n",
       "    <tr>\n",
       "      <th>mean</th>\n",
       "      <td>2.137572e+00</td>\n",
       "      <td>3.624520e+01</td>\n",
       "      <td>-9.711463e+01</td>\n",
       "      <td>3.624532e+01</td>\n",
       "      <td>-9.711439e+01</td>\n",
       "      <td>7.026779e-01</td>\n",
       "      <td>8.089408e+03</td>\n",
       "      <td>6.179356e+01</td>\n",
       "      <td>5.965823e+01</td>\n",
       "      <td>6.436545e+01</td>\n",
       "      <td>2.947234e+01</td>\n",
       "      <td>9.099391e+00</td>\n",
       "      <td>7.395044e+00</td>\n",
       "      <td>7.016940e-03</td>\n",
       "    </tr>\n",
       "    <tr>\n",
       "      <th>std</th>\n",
       "      <td>4.787216e-01</td>\n",
       "      <td>5.363797e+00</td>\n",
       "      <td>1.831782e+01</td>\n",
       "      <td>5.363873e+00</td>\n",
       "      <td>1.831763e+01</td>\n",
       "      <td>1.560361e+00</td>\n",
       "      <td>1.836009e+04</td>\n",
       "      <td>1.862263e+01</td>\n",
       "      <td>2.116097e+01</td>\n",
       "      <td>2.287457e+01</td>\n",
       "      <td>1.045286e+00</td>\n",
       "      <td>2.717546e+00</td>\n",
       "      <td>5.527454e+00</td>\n",
       "      <td>9.348831e-02</td>\n",
       "    </tr>\n",
       "    <tr>\n",
       "      <th>min</th>\n",
       "      <td>1.000000e+00</td>\n",
       "      <td>2.456603e+01</td>\n",
       "      <td>-1.245481e+02</td>\n",
       "      <td>2.456601e+01</td>\n",
       "      <td>-1.245457e+02</td>\n",
       "      <td>0.000000e+00</td>\n",
       "      <td>0.000000e+00</td>\n",
       "      <td>-8.900000e+01</td>\n",
       "      <td>-8.900000e+01</td>\n",
       "      <td>1.000000e+00</td>\n",
       "      <td>0.000000e+00</td>\n",
       "      <td>0.000000e+00</td>\n",
       "      <td>0.000000e+00</td>\n",
       "      <td>0.000000e+00</td>\n",
       "    </tr>\n",
       "    <tr>\n",
       "      <th>25%</th>\n",
       "      <td>2.000000e+00</td>\n",
       "      <td>3.344517e+01</td>\n",
       "      <td>-1.180331e+02</td>\n",
       "      <td>3.344628e+01</td>\n",
       "      <td>-1.180333e+02</td>\n",
       "      <td>5.200000e-02</td>\n",
       "      <td>1.270000e+03</td>\n",
       "      <td>5.000000e+01</td>\n",
       "      <td>4.600000e+01</td>\n",
       "      <td>4.800000e+01</td>\n",
       "      <td>2.931000e+01</td>\n",
       "      <td>1.000000e+01</td>\n",
       "      <td>3.500000e+00</td>\n",
       "      <td>0.000000e+00</td>\n",
       "    </tr>\n",
       "    <tr>\n",
       "      <th>50%</th>\n",
       "      <td>2.000000e+00</td>\n",
       "      <td>3.609861e+01</td>\n",
       "      <td>-9.241808e+01</td>\n",
       "      <td>3.609799e+01</td>\n",
       "      <td>-9.241772e+01</td>\n",
       "      <td>2.440000e-01</td>\n",
       "      <td>4.007000e+03</td>\n",
       "      <td>6.400000e+01</td>\n",
       "      <td>6.300000e+01</td>\n",
       "      <td>6.700000e+01</td>\n",
       "      <td>2.982000e+01</td>\n",
       "      <td>1.000000e+01</td>\n",
       "      <td>7.000000e+00</td>\n",
       "      <td>0.000000e+00</td>\n",
       "    </tr>\n",
       "    <tr>\n",
       "      <th>75%</th>\n",
       "      <td>2.000000e+00</td>\n",
       "      <td>4.016024e+01</td>\n",
       "      <td>-8.037243e+01</td>\n",
       "      <td>4.016105e+01</td>\n",
       "      <td>-8.037338e+01</td>\n",
       "      <td>7.640000e-01</td>\n",
       "      <td>9.567000e+03</td>\n",
       "      <td>7.600000e+01</td>\n",
       "      <td>7.600000e+01</td>\n",
       "      <td>8.300000e+01</td>\n",
       "      <td>3.001000e+01</td>\n",
       "      <td>1.000000e+01</td>\n",
       "      <td>1.000000e+01</td>\n",
       "      <td>0.000000e+00</td>\n",
       "    </tr>\n",
       "    <tr>\n",
       "      <th>max</th>\n",
       "      <td>4.000000e+00</td>\n",
       "      <td>4.900058e+01</td>\n",
       "      <td>-6.711317e+01</td>\n",
       "      <td>4.907500e+01</td>\n",
       "      <td>-6.710924e+01</td>\n",
       "      <td>1.551860e+02</td>\n",
       "      <td>9.999997e+06</td>\n",
       "      <td>1.960000e+02</td>\n",
       "      <td>1.960000e+02</td>\n",
       "      <td>1.000000e+02</td>\n",
       "      <td>5.890000e+01</td>\n",
       "      <td>1.400000e+02</td>\n",
       "      <td>1.087000e+03</td>\n",
       "      <td>2.400000e+01</td>\n",
       "    </tr>\n",
       "  </tbody>\n",
       "</table>\n",
       "</div>"
      ],
      "text/plain": [
       "           Severity     Start_Lat     Start_Lng       End_Lat       End_Lng  \\\n",
       "count  2.845342e+06  2.845342e+06  2.845342e+06  2.845342e+06  2.845342e+06   \n",
       "mean   2.137572e+00  3.624520e+01 -9.711463e+01  3.624532e+01 -9.711439e+01   \n",
       "std    4.787216e-01  5.363797e+00  1.831782e+01  5.363873e+00  1.831763e+01   \n",
       "min    1.000000e+00  2.456603e+01 -1.245481e+02  2.456601e+01 -1.245457e+02   \n",
       "25%    2.000000e+00  3.344517e+01 -1.180331e+02  3.344628e+01 -1.180333e+02   \n",
       "50%    2.000000e+00  3.609861e+01 -9.241808e+01  3.609799e+01 -9.241772e+01   \n",
       "75%    2.000000e+00  4.016024e+01 -8.037243e+01  4.016105e+01 -8.037338e+01   \n",
       "max    4.000000e+00  4.900058e+01 -6.711317e+01  4.907500e+01 -6.710924e+01   \n",
       "\n",
       "       Distance(mi)        Number  Temperature(F)  Wind_Chill(F)  \\\n",
       "count  2.845342e+06  1.101431e+06    2.776068e+06   2.375699e+06   \n",
       "mean   7.026779e-01  8.089408e+03    6.179356e+01   5.965823e+01   \n",
       "std    1.560361e+00  1.836009e+04    1.862263e+01   2.116097e+01   \n",
       "min    0.000000e+00  0.000000e+00   -8.900000e+01  -8.900000e+01   \n",
       "25%    5.200000e-02  1.270000e+03    5.000000e+01   4.600000e+01   \n",
       "50%    2.440000e-01  4.007000e+03    6.400000e+01   6.300000e+01   \n",
       "75%    7.640000e-01  9.567000e+03    7.600000e+01   7.600000e+01   \n",
       "max    1.551860e+02  9.999997e+06    1.960000e+02   1.960000e+02   \n",
       "\n",
       "        Humidity(%)  Pressure(in)  Visibility(mi)  Wind_Speed(mph)  \\\n",
       "count  2.772250e+06  2.786142e+06    2.774796e+06     2.687398e+06   \n",
       "mean   6.436545e+01  2.947234e+01    9.099391e+00     7.395044e+00   \n",
       "std    2.287457e+01  1.045286e+00    2.717546e+00     5.527454e+00   \n",
       "min    1.000000e+00  0.000000e+00    0.000000e+00     0.000000e+00   \n",
       "25%    4.800000e+01  2.931000e+01    1.000000e+01     3.500000e+00   \n",
       "50%    6.700000e+01  2.982000e+01    1.000000e+01     7.000000e+00   \n",
       "75%    8.300000e+01  3.001000e+01    1.000000e+01     1.000000e+01   \n",
       "max    1.000000e+02  5.890000e+01    1.400000e+02     1.087000e+03   \n",
       "\n",
       "       Precipitation(in)  \n",
       "count       2.295884e+06  \n",
       "mean        7.016940e-03  \n",
       "std         9.348831e-02  \n",
       "min         0.000000e+00  \n",
       "25%         0.000000e+00  \n",
       "50%         0.000000e+00  \n",
       "75%         0.000000e+00  \n",
       "max         2.400000e+01  "
      ]
     },
     "execution_count": 4,
     "metadata": {},
     "output_type": "execute_result"
    }
   ],
   "source": [
    "df.describe()"
   ]
  },
  {
   "cell_type": "markdown",
   "id": "11c1b39e",
   "metadata": {},
   "source": [
    "#### Data Cleaning"
   ]
  },
  {
   "cell_type": "code",
   "execution_count": 6,
   "id": "744799f8",
   "metadata": {},
   "outputs": [],
   "source": [
    "df1 = df.copy()"
   ]
  },
  {
   "cell_type": "code",
   "execution_count": 7,
   "id": "5964ec50",
   "metadata": {},
   "outputs": [
    {
     "data": {
      "text/plain": [
       "array(['43017', '45424', '45203', ..., '97028-9707', '94401-2213',\n",
       "       '95993-9513'], dtype=object)"
      ]
     },
     "execution_count": 7,
     "metadata": {},
     "output_type": "execute_result"
    }
   ],
   "source": [
    "df1['Zipcode'].unique()"
   ]
  },
  {
   "cell_type": "code",
   "execution_count": 8,
   "id": "d356a079",
   "metadata": {},
   "outputs": [
    {
     "name": "stderr",
     "output_type": "stream",
     "text": [
      "C:\\Users\\Hp\\AppData\\Local\\Temp\\ipykernel_9860\\1410754087.py:2: FutureWarning: The default value of regex will change from True to False in a future version.\n",
      "  df1['Zipcode'] = df1['Zipcode'].str.replace(r'-\\d+', '')\n"
     ]
    }
   ],
   "source": [
    "# Removing hyphen from Zipcode\n",
    "df1['Zipcode'] = df1['Zipcode'].str.replace(r'-\\d+', '')"
   ]
  },
  {
   "cell_type": "code",
   "execution_count": 10,
   "id": "5ad98d20",
   "metadata": {},
   "outputs": [],
   "source": [
    "df1['Country'] = df1['Country'].str.lower()\n",
    "df1['Street'] = df1['Street'].str.lower()\n",
    "df1['City'] = df1['City'].str.lower()"
   ]
  },
  {
   "cell_type": "markdown",
   "id": "6052ea07",
   "metadata": {},
   "source": [
    "#### Some thoughts on columns:-\n",
    "\n",
    "- There are two columns 'County' and 'Country' as well so check if both are same or not.\n",
    "- Number', 'Street', 'Side', 'City', 'County', 'State', 'Zipcode', 'Country' :- these are the fields which are similar, so check if there is any redundancy or not."
   ]
  },
  {
   "cell_type": "code",
   "execution_count": 11,
   "id": "8d680269",
   "metadata": {},
   "outputs": [],
   "source": [
    "# creating the two columns, one to store list of features to drop and one to add features that are need to be added\n",
    "drop_list=[]\n",
    "feature_list=[]"
   ]
  },
  {
   "cell_type": "code",
   "execution_count": 12,
   "id": "47045ccb",
   "metadata": {},
   "outputs": [
    {
     "data": {
      "text/html": [
       "<div>\n",
       "<style scoped>\n",
       "    .dataframe tbody tr th:only-of-type {\n",
       "        vertical-align: middle;\n",
       "    }\n",
       "\n",
       "    .dataframe tbody tr th {\n",
       "        vertical-align: top;\n",
       "    }\n",
       "\n",
       "    .dataframe thead th {\n",
       "        text-align: right;\n",
       "    }\n",
       "</style>\n",
       "<table border=\"1\" class=\"dataframe\">\n",
       "  <thead>\n",
       "    <tr style=\"text-align: right;\">\n",
       "      <th></th>\n",
       "      <th>Number</th>\n",
       "      <th>Street</th>\n",
       "      <th>Side</th>\n",
       "      <th>City</th>\n",
       "      <th>County</th>\n",
       "      <th>State</th>\n",
       "      <th>Zipcode</th>\n",
       "      <th>Country</th>\n",
       "    </tr>\n",
       "  </thead>\n",
       "  <tbody>\n",
       "    <tr>\n",
       "      <th>0</th>\n",
       "      <td>NaN</td>\n",
       "      <td>outerbelt e</td>\n",
       "      <td>R</td>\n",
       "      <td>dublin</td>\n",
       "      <td>Franklin</td>\n",
       "      <td>OH</td>\n",
       "      <td>43017</td>\n",
       "      <td>us</td>\n",
       "    </tr>\n",
       "    <tr>\n",
       "      <th>1</th>\n",
       "      <td>NaN</td>\n",
       "      <td>i-70 e</td>\n",
       "      <td>R</td>\n",
       "      <td>dayton</td>\n",
       "      <td>Montgomery</td>\n",
       "      <td>OH</td>\n",
       "      <td>45424</td>\n",
       "      <td>us</td>\n",
       "    </tr>\n",
       "    <tr>\n",
       "      <th>2</th>\n",
       "      <td>NaN</td>\n",
       "      <td>i-75 s</td>\n",
       "      <td>R</td>\n",
       "      <td>cincinnati</td>\n",
       "      <td>Hamilton</td>\n",
       "      <td>OH</td>\n",
       "      <td>45203</td>\n",
       "      <td>us</td>\n",
       "    </tr>\n",
       "    <tr>\n",
       "      <th>3</th>\n",
       "      <td>NaN</td>\n",
       "      <td>i-77 n</td>\n",
       "      <td>R</td>\n",
       "      <td>akron</td>\n",
       "      <td>Summit</td>\n",
       "      <td>OH</td>\n",
       "      <td>44311</td>\n",
       "      <td>us</td>\n",
       "    </tr>\n",
       "    <tr>\n",
       "      <th>4</th>\n",
       "      <td>NaN</td>\n",
       "      <td>i-75 s</td>\n",
       "      <td>R</td>\n",
       "      <td>cincinnati</td>\n",
       "      <td>Hamilton</td>\n",
       "      <td>OH</td>\n",
       "      <td>45217</td>\n",
       "      <td>us</td>\n",
       "    </tr>\n",
       "    <tr>\n",
       "      <th>...</th>\n",
       "      <td>...</td>\n",
       "      <td>...</td>\n",
       "      <td>...</td>\n",
       "      <td>...</td>\n",
       "      <td>...</td>\n",
       "      <td>...</td>\n",
       "      <td>...</td>\n",
       "      <td>...</td>\n",
       "    </tr>\n",
       "    <tr>\n",
       "      <th>2845337</th>\n",
       "      <td>NaN</td>\n",
       "      <td>pomona fwy e</td>\n",
       "      <td>R</td>\n",
       "      <td>riverside</td>\n",
       "      <td>Riverside</td>\n",
       "      <td>CA</td>\n",
       "      <td>92501</td>\n",
       "      <td>us</td>\n",
       "    </tr>\n",
       "    <tr>\n",
       "      <th>2845338</th>\n",
       "      <td>NaN</td>\n",
       "      <td>i-8 w</td>\n",
       "      <td>R</td>\n",
       "      <td>san diego</td>\n",
       "      <td>San Diego</td>\n",
       "      <td>CA</td>\n",
       "      <td>92108</td>\n",
       "      <td>us</td>\n",
       "    </tr>\n",
       "    <tr>\n",
       "      <th>2845339</th>\n",
       "      <td>NaN</td>\n",
       "      <td>garden grove fwy</td>\n",
       "      <td>R</td>\n",
       "      <td>orange</td>\n",
       "      <td>Orange</td>\n",
       "      <td>CA</td>\n",
       "      <td>92866</td>\n",
       "      <td>us</td>\n",
       "    </tr>\n",
       "    <tr>\n",
       "      <th>2845340</th>\n",
       "      <td>NaN</td>\n",
       "      <td>san diego fwy s</td>\n",
       "      <td>R</td>\n",
       "      <td>culver city</td>\n",
       "      <td>Los Angeles</td>\n",
       "      <td>CA</td>\n",
       "      <td>90230</td>\n",
       "      <td>us</td>\n",
       "    </tr>\n",
       "    <tr>\n",
       "      <th>2845341</th>\n",
       "      <td>NaN</td>\n",
       "      <td>ca-210 w</td>\n",
       "      <td>R</td>\n",
       "      <td>highland</td>\n",
       "      <td>San Bernardino</td>\n",
       "      <td>CA</td>\n",
       "      <td>92346</td>\n",
       "      <td>us</td>\n",
       "    </tr>\n",
       "  </tbody>\n",
       "</table>\n",
       "<p>2845342 rows × 8 columns</p>\n",
       "</div>"
      ],
      "text/plain": [
       "         Number            Street Side         City          County State  \\\n",
       "0           NaN       outerbelt e    R       dublin        Franklin    OH   \n",
       "1           NaN            i-70 e    R       dayton      Montgomery    OH   \n",
       "2           NaN            i-75 s    R   cincinnati        Hamilton    OH   \n",
       "3           NaN            i-77 n    R        akron          Summit    OH   \n",
       "4           NaN            i-75 s    R   cincinnati        Hamilton    OH   \n",
       "...         ...               ...  ...          ...             ...   ...   \n",
       "2845337     NaN      pomona fwy e    R    riverside       Riverside    CA   \n",
       "2845338     NaN             i-8 w    R    san diego       San Diego    CA   \n",
       "2845339     NaN  garden grove fwy    R       orange          Orange    CA   \n",
       "2845340     NaN   san diego fwy s    R  culver city     Los Angeles    CA   \n",
       "2845341     NaN          ca-210 w    R     highland  San Bernardino    CA   \n",
       "\n",
       "        Zipcode Country  \n",
       "0         43017      us  \n",
       "1         45424      us  \n",
       "2         45203      us  \n",
       "3         44311      us  \n",
       "4         45217      us  \n",
       "...         ...     ...  \n",
       "2845337   92501      us  \n",
       "2845338   92108      us  \n",
       "2845339   92866      us  \n",
       "2845340   90230      us  \n",
       "2845341   92346      us  \n",
       "\n",
       "[2845342 rows x 8 columns]"
      ]
     },
     "execution_count": 12,
     "metadata": {},
     "output_type": "execute_result"
    }
   ],
   "source": [
    "df1[['Number', 'Street', 'Side', 'City', 'County', 'State', 'Zipcode', 'Country']]"
   ]
  },
  {
   "cell_type": "code",
   "execution_count": 15,
   "id": "bf50e145",
   "metadata": {},
   "outputs": [
    {
     "data": {
      "text/plain": [
       "0.6129003121593116"
      ]
     },
     "execution_count": 15,
     "metadata": {},
     "output_type": "execute_result"
    }
   ],
   "source": [
    "#checking the Number column as we can see so much of nan values\n",
    "df1['Number'].isnull().sum() / len(df1)"
   ]
  },
  {
   "cell_type": "markdown",
   "id": "8f18ba72",
   "metadata": {},
   "source": [
    "#### we can see more than 50% percent values are missing and it is difficult to work with so many missing values. Hence we will drop the column."
   ]
  },
  {
   "cell_type": "code",
   "execution_count": 16,
   "id": "a122bab8",
   "metadata": {},
   "outputs": [],
   "source": [
    "drop_list.append('Number')"
   ]
  },
  {
   "cell_type": "code",
   "execution_count": 17,
   "id": "37ae1f51",
   "metadata": {},
   "outputs": [
    {
     "data": {
      "text/plain": [
       "159598"
      ]
     },
     "execution_count": 17,
     "metadata": {},
     "output_type": "execute_result"
    }
   ],
   "source": [
    "#Street == Shows the street name in address field.\n",
    "df1['Street'].nunique()"
   ]
  },
  {
   "cell_type": "markdown",
   "id": "ed856b22",
   "metadata": {},
   "source": [
    "#### There are so many unique value for street, it will be good to drop this feature."
   ]
  },
  {
   "cell_type": "code",
   "execution_count": 19,
   "id": "8ea93300",
   "metadata": {},
   "outputs": [
    {
     "data": {
      "text/plain": [
       "R    2353309\n",
       "L     492032\n",
       "N          1\n",
       "Name: Side, dtype: int64"
      ]
     },
     "execution_count": 19,
     "metadata": {},
     "output_type": "execute_result"
    }
   ],
   "source": [
    "#Side¶ == Shows the relative side of the street (Right/Left) in address field.\n",
    "df1['Side'].value_counts()"
   ]
  },
  {
   "cell_type": "markdown",
   "id": "7ca27d8f",
   "metadata": {},
   "source": [
    "#### Side has one N value which we will remove it. "
   ]
  },
  {
   "cell_type": "code",
   "execution_count": 21,
   "id": "c2b85ac7",
   "metadata": {},
   "outputs": [],
   "source": [
    "df1.drop(df1.loc[df1['Side']=='N'].index,inplace=True)"
   ]
  },
  {
   "cell_type": "code",
   "execution_count": 22,
   "id": "ae90ee22",
   "metadata": {},
   "outputs": [
    {
     "data": {
      "text/plain": [
       "R    2353309\n",
       "L     492032\n",
       "Name: Side, dtype: int64"
      ]
     },
     "execution_count": 22,
     "metadata": {},
     "output_type": "execute_result"
    }
   ],
   "source": [
    "df1['Side'].value_counts()"
   ]
  },
  {
   "cell_type": "code",
   "execution_count": 26,
   "id": "5f91fc9a",
   "metadata": {},
   "outputs": [],
   "source": [
    "# County:- In the United States, a county is an administrative or political subdivision of a state that consists of a geographic region with specific boundaries\n",
    "drop_list.append('County')"
   ]
  },
  {
   "cell_type": "markdown",
   "id": "9804a441",
   "metadata": {},
   "source": [
    "#### Columns like End_Lat and End_Lan have no values in their column\n",
    "##### So the columns dropped are:\n",
    "- End_Lat\n",
    "- End_Lng\n",
    "- Precipitation(in)\n",
    "- Number"
   ]
  },
  {
   "cell_type": "code",
   "execution_count": 29,
   "id": "6cfe5561",
   "metadata": {},
   "outputs": [],
   "source": [
    "drop_list.extend(['End_Lat', 'End_Lng', 'Precipitation(in)', 'Number'])"
   ]
  },
  {
   "cell_type": "markdown",
   "id": "70935d5f",
   "metadata": {},
   "source": [
    "#### Few of the columns are highly imabalanced, so we will remove the following columns:\n",
    "- Bump\n",
    "- Give_Way\n",
    "- No_Exit\n",
    "- Roundabout\n",
    "- Traffic_Calming"
   ]
  },
  {
   "cell_type": "code",
   "execution_count": 32,
   "id": "18475522",
   "metadata": {},
   "outputs": [
    {
     "data": {
      "text/plain": [
       "<AxesSubplot:title={'center':'Traffic_Calming'}>"
      ]
     },
     "execution_count": 32,
     "metadata": {},
     "output_type": "execute_result"
    },
    {
     "data": {
      "image/png": "[encoded data removed]",
      "text/plain": [
       "<Figure size 864x288 with 5 Axes>"
      ]
     },
     "metadata": {
      "needs_background": "light"
     },
     "output_type": "display_data"
    }
   ],
   "source": [
    "fig, ax = plt.subplots(nrows=1, ncols=5, figsize=(12,4))\n",
    "df1['Bump'].value_counts().plot(kind='bar', title='Bump',ax=ax[0])\n",
    "df1['Give_Way'].value_counts().plot(kind='bar', title='Give_Way',ax=ax[1])\n",
    "df1['No_Exit'].value_counts().plot(kind='bar', title='No_Exit',ax=ax[2])\n",
    "df1['Roundabout'].value_counts().plot(kind='bar', title='Roundabout',ax=ax[3])\n",
    "df1['Traffic_Calming'].value_counts().plot(kind='bar', title='Traffic_Calming',ax=ax[4])"
   ]
  },
  {
   "cell_type": "code",
   "execution_count": 33,
   "id": "de796945",
   "metadata": {},
   "outputs": [],
   "source": [
    "drop_list.extend(['Bump', 'Give_Way', 'No_Exit', 'Roundabout', 'Traffic_Calming'])"
   ]
  },
  {
   "cell_type": "markdown",
   "id": "2dbee559",
   "metadata": {},
   "source": [
    "#### Columns like Astronomical_Twilight, City have null percentage less than 1, so we can just drop rows"
   ]
  },
  {
   "cell_type": "code",
   "execution_count": 38,
   "id": "0015dc9e",
   "metadata": {},
   "outputs": [],
   "source": [
    "drop_list.extend(['City', 'Astronomical_Twilight', 'Nautical_Twilight', 'Civil_Twilight', 'Street','Sunrise_Sunset', 'Zipcode', 'Timezone', 'Airport_Code'])"
   ]
  },
  {
   "cell_type": "code",
   "execution_count": 40,
   "id": "65d59730",
   "metadata": {},
   "outputs": [
    {
     "data": {
      "text/plain": [
       "(2845341, 47)"
      ]
     },
     "execution_count": 40,
     "metadata": {},
     "output_type": "execute_result"
    }
   ],
   "source": [
    "df1.shape"
   ]
  },
  {
   "cell_type": "code",
   "execution_count": 41,
   "id": "8f43d22d",
   "metadata": {},
   "outputs": [],
   "source": [
    "df1 =df1.drop(drop_list,axis=1)"
   ]
  },
  {
   "cell_type": "code",
   "execution_count": 43,
   "id": "642f54dd",
   "metadata": {},
   "outputs": [
    {
     "data": {
      "text/plain": [
       "Index(['ID', 'Severity', 'Start_Time', 'End_Time', 'Start_Lat', 'Start_Lng',\n",
       "       'Distance(mi)', 'Description', 'Side', 'State', 'Country',\n",
       "       'Weather_Timestamp', 'Temperature(F)', 'Wind_Chill(F)', 'Humidity(%)',\n",
       "       'Pressure(in)', 'Visibility(mi)', 'Wind_Direction', 'Wind_Speed(mph)',\n",
       "       'Weather_Condition', 'Amenity', 'Crossing', 'Junction', 'Railway',\n",
       "       'Station', 'Stop', 'Traffic_Signal', 'Turning_Loop'],\n",
       "      dtype='object')"
      ]
     },
     "execution_count": 43,
     "metadata": {},
     "output_type": "execute_result"
    }
   ],
   "source": [
    "df1.columns"
   ]
  },
  {
   "cell_type": "code",
   "execution_count": 44,
   "id": "512fdc60",
   "metadata": {},
   "outputs": [],
   "source": [
    "file_name= 'cleaned.csv'\n",
    "df1.to_csv(file_name, encoding='utf-8', index=False)"
   ]
  },
  {
   "cell_type": "code",
   "execution_count": null,
   "id": "eeeb0da1",
   "metadata": {},
   "outputs": [],
   "source": []
  }
 ],
 "metadata": {
  "kernelspec": {
   "display_name": "Python 3 (ipykernel)",
   "language": "python",
   "name": "python3"
  },
  "language_info": {
   "codemirror_mode": {
    "name": "ipython",
    "version": 3
   },
   "file_extension": ".py",
   "mimetype": "text/x-python",
   "name": "python",
   "nbconvert_exporter": "python",
   "pygments_lexer": "ipython3",
   "version": "3.9.12"
  }
 },
 "nbformat": 4,
 "nbformat_minor": 5
}
