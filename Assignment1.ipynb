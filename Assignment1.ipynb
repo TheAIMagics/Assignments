{
 "cells": [
  {
   "cell_type": "raw",
   "id": "864a0aac",
   "metadata": {},
   "source": [
    "1. In the below elements which of them are values or an expression? eg:- values can be integer or string and expressions will be mathematical operators.\n",
    "* \n",
    "'hello' \n",
    "-87.8\n",
    "- \n",
    "/ \n",
    "+\t\n",
    "6 \n",
    "\n",
    "Ans: values = ['hello', -87.5,6]\n",
    "     Expressions = [/,+,-]\n"
   ]
  },
  {
   "cell_type": "raw",
   "id": "e1a56169",
   "metadata": {},
   "source": [
    "2. What is the difference between string and variable?\n",
    "Ans : Variable is an identifier to store value in memry location & to manipulate it if needed\n",
    "      String is anything you assign to a variable using quotes."
   ]
  },
  {
   "cell_type": "raw",
   "id": "e0a08ddc",
   "metadata": {},
   "source": [
    "3. Describe three different data types.\n",
    "Ans : String,Float, Boolean, List, Tuples,Sets and Dictionary"
   ]
  },
  {
   "cell_type": "raw",
   "id": "1e6cf7a1",
   "metadata": {},
   "source": [
    "4. What is an expression made up of? What do all expressions do?\n",
    "Ans : An expression is combination of values, vaariables, operators. Expression need to be evaluated "
   ]
  },
  {
   "cell_type": "raw",
   "id": "3cb1009c",
   "metadata": {},
   "source": [
    "5. This assignment statements, like spam = 10. What is the difference between an expression and a statement?\n",
    "Ans: Expression is made up of values, containers, and mathematical operators (operands) and the statement is just like a command that a python interpreter executes like print."
   ]
  },
  {
   "cell_type": "raw",
   "id": "7336ff5b",
   "metadata": {},
   "source": [
    "6. After running the following code, what does the variable bacon contain?\n",
    "bacon = 22\n",
    "bacon + 1\n",
    "Ans = 22"
   ]
  },
  {
   "cell_type": "raw",
   "id": "7d2fe4b4",
   "metadata": {},
   "source": [
    "7. What should the values of the following two terms be?\n",
    "Ans : 'spam' + 'spamspam' -> 'spamspamspam'\n",
    "      'spam' * 3  -> 'spamspamspam'\n"
   ]
  },
  {
   "cell_type": "raw",
   "id": "70d4a24a",
   "metadata": {},
   "source": [
    "8. Why is eggs a valid variable name while 100 is invalid?\n",
    "Ans: because variable name can not start with number"
   ]
  },
  {
   "cell_type": "raw",
   "id": "50d4bb60",
   "metadata": {},
   "source": [
    "9. What three functions can be used to get the integer, floating-point number, or string version of a value?\n",
    "Ans : int(), float(), str()"
   ]
  },
  {
   "cell_type": "raw",
   "id": "bbadb637",
   "metadata": {},
   "source": [
    "10. Why does this expression cause an error? How can you fix it?\n",
    "'I have eaten ' + 99 + ' burritos.'\n",
    "Ans : Error -> can only concatenate str (not \"int\") to str\n",
    "    fix: -> 'I have eaten ' +'99' + ' burritos.'\n"
   ]
  },
  {
   "cell_type": "code",
   "execution_count": null,
   "id": "99efbdb8",
   "metadata": {},
   "outputs": [],
   "source": []
  },
  {
   "cell_type": "code",
   "execution_count": null,
   "id": "6f3ec3c8",
   "metadata": {},
   "outputs": [],
   "source": []
  }
 ],
 "metadata": {
  "kernelspec": {
   "display_name": "Python 3",
   "language": "python",
   "name": "python3"
  },
  "language_info": {
   "codemirror_mode": {
    "name": "ipython",
    "version": 3
   },
   "file_extension": ".py",
   "mimetype": "text/x-python",
   "name": "python",
   "nbconvert_exporter": "python",
   "pygments_lexer": "ipython3",
   "version": "3.8.8"
  }
 },
 "nbformat": 4,
 "nbformat_minor": 5
}
