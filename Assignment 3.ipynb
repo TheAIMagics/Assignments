{
 "cells": [
  {
   "cell_type": "code",
   "execution_count": null,
   "id": "450de2f7",
   "metadata": {},
   "outputs": [],
   "source": [
    "1. Why are functions advantageous to have in your programs?\n",
    "Ans : 1. Reduces duplicate code in our program\n",
    "      2. Makes our program shorter, easier to update and easier to read \n",
    "      3. Improves maintainability & Scaliblity"
   ]
  },
  {
   "cell_type": "code",
   "execution_count": null,
   "id": "9cdc0acf",
   "metadata": {},
   "outputs": [],
   "source": [
    "2. When does the code in a function run: when it's specified or when it's called?\n",
    "Ans : when it's called"
   ]
  },
  {
   "cell_type": "code",
   "execution_count": null,
   "id": "fcba6979",
   "metadata": {},
   "outputs": [],
   "source": [
    "3. What statement creates a function?\n",
    "Ans : The def statement defines (that is, creates) a function."
   ]
  },
  {
   "cell_type": "code",
   "execution_count": null,
   "id": "780b6b76",
   "metadata": {},
   "outputs": [],
   "source": [
    "4. What is the difference between a function and a function call?\n",
    "Ans : function consist of def statement and code in it while function call makes our program into execution."
   ]
  },
  {
   "cell_type": "code",
   "execution_count": null,
   "id": "e24260ba",
   "metadata": {},
   "outputs": [],
   "source": [
    "5. How many global scopes are there in a Python program? How many local scopes?\n",
    "Ans : There is one global scope, and a local scope is created whenever a function is called."
   ]
  },
  {
   "cell_type": "code",
   "execution_count": null,
   "id": "8cb9bcac",
   "metadata": {},
   "outputs": [],
   "source": [
    "6. What happens to variables in a local scope when the function call returns?\n",
    "Ans : When a function returns, the local scope is destroyed, and all the variables in it are forgotten."
   ]
  },
  {
   "cell_type": "code",
   "execution_count": null,
   "id": "95aef206",
   "metadata": {},
   "outputs": [],
   "source": [
    "7. What is the concept of a return value? Is it possible to have a return value in an expression?\n",
    "Ans : The return statement is used to end the execution of function call and return the result to caller.\n",
    "      The statements after return are not executed\n",
    "      I return statement is without any expression the a special value NONE is returned."
   ]
  },
  {
   "cell_type": "code",
   "execution_count": null,
   "id": "1e8a576a",
   "metadata": {},
   "outputs": [],
   "source": [
    "8. If a function does not have a return statement, what is the return value of a call to that function?\n",
    "Ans : None"
   ]
  },
  {
   "cell_type": "code",
   "execution_count": null,
   "id": "ec6bf6e4",
   "metadata": {},
   "outputs": [],
   "source": [
    "9. How do you make a function variable refer to the global variable?\n",
    "Ans : We can use global variable withon another funciton by decalring it as global within each function that assigns a value to it\n",
    "     \n",
    "        globvar = 0\n",
    "        def set_globvar_to_one():\n",
    "            global globvar    # Needed to modify global copy of globvar\n",
    "            globvar = 1\n",
    "\n",
    "        def print_globvar():\n",
    "            print(globvar)     # No need for global declaration to read value of globvar\n",
    "\n",
    "        set_globvar_to_one()\n",
    "        print_globvar()       # Prints 1"
   ]
  },
  {
   "cell_type": "code",
   "execution_count": null,
   "id": "78aa3da7",
   "metadata": {},
   "outputs": [],
   "source": [
    "10. What is the data type of None?\n",
    "Ans : NoneType"
   ]
  },
  {
   "cell_type": "code",
   "execution_count": null,
   "id": "a47cdd95",
   "metadata": {},
   "outputs": [],
   "source": [
    "11. What does the sentence import areallyourpetsnamederic do?\n",
    "Ans: Will import module named areallyourpetsnamederic"
   ]
  },
  {
   "cell_type": "code",
   "execution_count": null,
   "id": "8f965931",
   "metadata": {},
   "outputs": [],
   "source": [
    "12. If you had a bacon() feature in a spam module, what would you call it after importing spam?\n",
    "Ans : spam.bacon()"
   ]
  },
  {
   "cell_type": "code",
   "execution_count": null,
   "id": "6d986c84",
   "metadata": {},
   "outputs": [],
   "source": [
    "13. What can you do to save a programme from crashing if it encounters an error?\n",
    "Ans : We can use exception handling to prevent program from crashing"
   ]
  },
  {
   "cell_type": "code",
   "execution_count": null,
   "id": "b83a7ee1",
   "metadata": {},
   "outputs": [],
   "source": [
    "14. What is the purpose of the try clause? What is the purpose of the except clause?\n",
    "Ans : TRY - code that can potentially cause error goes in try block\n",
    "      EXCEPT - This code executes if an error occured"
   ]
  }
 ],
 "metadata": {
  "kernelspec": {
   "display_name": "Python 3",
   "language": "python",
   "name": "python3"
  },
  "language_info": {
   "codemirror_mode": {
    "name": "ipython",
    "version": 3
   },
   "file_extension": ".py",
   "mimetype": "text/x-python",
   "name": "python",
   "nbconvert_exporter": "python",
   "pygments_lexer": "ipython3",
   "version": "3.8.8"
  }
 },
 "nbformat": 4,
 "nbformat_minor": 5
}
