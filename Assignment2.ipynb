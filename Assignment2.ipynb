{
 "cells": [
  {
   "cell_type": "code",
   "execution_count": null,
   "id": "2a678358",
   "metadata": {},
   "outputs": [],
   "source": [
    "1.What are the two values of the Boolean data type? How do you write them?\n",
    "Ans : Boolean can have only 2 values"
   ]
  },
  {
   "cell_type": "code",
   "execution_count": null,
   "id": "ece7e1b0",
   "metadata": {},
   "outputs": [],
   "source": [
    "2. What are the three different types of Boolean operators?\n",
    "Ans : AND , OR and NOT"
   ]
  },
  {
   "cell_type": "code",
   "execution_count": null,
   "id": "ff107f66",
   "metadata": {},
   "outputs": [],
   "source": [
    "3. Make a list of each Boolean operator's truth tables (i.e. every possible combination of Boolean values for the operator and what it evaluate ).\n",
    "Ans : AND\n",
    "            A \t    B\t   A and B\n",
    "            True\tTrue\tTrue\n",
    "            False\tTrue\tFalse\n",
    "            True\tFalse\tFalse\n",
    "            False\tFalse\tFalse\n",
    "    OR \n",
    "            A\tB\tA or B\n",
    "            True\tTrue\tTrue\n",
    "            False\tTrue\tTrue\n",
    "            True\tFalse\tTrue\n",
    "            False\tFalse\tFalse\n",
    "    NOT\n",
    "            A\tnot A\t\n",
    "            True\tFalse\t\n",
    "            False\tTrue\t"
   ]
  },
  {
   "cell_type": "code",
   "execution_count": null,
   "id": "86308f48",
   "metadata": {},
   "outputs": [],
   "source": [
    "4. What are the values of the following expressions?\n",
    "Ans:   (5 > 4) and (3 == 5) => FALSE\n",
    "        not (5 > 4) => FALSE\n",
    "        (5 > 4) or (3 == 5) => TRUE\n",
    "        not ((5 > 4) or (3 == 5)) => FALSE\n",
    "        (True and True) and (True == False) => FALSE\n",
    "        (not False) or (not True) =>TRUE\n",
    "\n"
   ]
  },
  {
   "cell_type": "code",
   "execution_count": null,
   "id": "d04905e2",
   "metadata": {},
   "outputs": [],
   "source": [
    "5. What are the six comparison operators?\n",
    "Ans :    1. == (Equal To)\n",
    "         2. != (Not Equal TO)\n",
    "         3. >  (Greater Than)\n",
    "         4. <  (Smaller THan)\n",
    "         5. >= (Greater Tha Equal To)\n",
    "         6. <= (Smaller Tha Equal To)\n",
    "    "
   ]
  },
  {
   "cell_type": "code",
   "execution_count": null,
   "id": "1bec5355",
   "metadata": {},
   "outputs": [],
   "source": [
    "6. How do you tell the difference between the equal to and assignment operators?Describe a condition and when you would use one.\n",
    "Ans :  == (Equal To) = Comparision Operator using to compare two entities\n",
    "        ex: 2 == 3\n",
    "       = (Assignment Operator) is used to assign value on right \n",
    "        ex: a = 10;"
   ]
  },
  {
   "cell_type": "code",
   "execution_count": null,
   "id": "1b3dadad",
   "metadata": {},
   "outputs": [],
   "source": [
    "7. Identify the three blocks in this code:\n",
    "Ans:    spam = 0\n",
    "        if spam == 10://block A\n",
    "            print('eggs')\n",
    "        if spam > 5://block B\n",
    "            print('bacon')\n",
    "        else://block C\n",
    "            print('ham')\n",
    "            print('spam')\n",
    "            print('spam')"
   ]
  },
  {
   "cell_type": "code",
   "execution_count": null,
   "id": "5afb385d",
   "metadata": {},
   "outputs": [],
   "source": [
    "8. Write code that prints Hello if 1 is stored in spam, prints Howdy if 2 is stored in spam, and prints Greetings! if anything else is stored in spam.\n",
    "Ans :   spam =0\n",
    "        if spam == 1:\n",
    "            print(\"Hello\")\n",
    "        if spam == 2:\n",
    "            print(\"Howdy\")\n",
    "        else:\n",
    "            print(\" Greetings!\")"
   ]
  },
  {
   "cell_type": "code",
   "execution_count": null,
   "id": "b4495845",
   "metadata": {},
   "outputs": [],
   "source": [
    "9.If your programme is stuck in an endless loop, what keys you’ll press?\n",
    "Ans : You can press Ctrl + C "
   ]
  },
  {
   "cell_type": "code",
   "execution_count": null,
   "id": "e645edd3",
   "metadata": {},
   "outputs": [],
   "source": [
    "10. How can you tell the difference between break and continue?\n",
    "Ans : break statement stops the loop in which statement is present\n",
    "      continue statement skips single iteration in a loop\n",
    "      Both break and continue can be used in for and while loop"
   ]
  },
  {
   "cell_type": "code",
   "execution_count": null,
   "id": "738f5b9c",
   "metadata": {},
   "outputs": [],
   "source": [
    "11. In a for loop, what is the difference between range(10), range(0, 10), and range(0, 10, 1)?\n",
    "Ans:   range(10) =>       creates integer betwen 0 to 9\n",
    "       range(0, 10) =>    creates integer betwen 0 to 9\n",
    "       range(0, 10, 1) => creates integer betwen 0 to 9"
   ]
  },
  {
   "cell_type": "code",
   "execution_count": null,
   "id": "2bf1ab9c",
   "metadata": {},
   "outputs": [],
   "source": [
    "12. Write a short program that prints the numbers 1 to 10 using a for loop. Then write an equivalent program that prints the numbers 1 to 10 using a while loop.\n",
    "Ans : FOR LOOP\n",
    "            for i in range(1,11):\n",
    "            print(i)\n",
    "      WHILE LOOP\n",
    "            max = 11\n",
    "            i=1\n",
    "            while( i < max):\n",
    "            print(i)\n",
    "            i = i+1"
   ]
  },
  {
   "cell_type": "code",
   "execution_count": null,
   "id": "1ea6d58f",
   "metadata": {},
   "outputs": [],
   "source": [
    "13. If you had a function named bacon() inside a module named spam, how would you call it after importing spam?\n",
    "Ans : spam.bacon()"
   ]
  }
 ],
 "metadata": {
  "kernelspec": {
   "display_name": "Python 3",
   "language": "python",
   "name": "python3"
  },
  "language_info": {
   "codemirror_mode": {
    "name": "ipython",
    "version": 3
   },
   "file_extension": ".py",
   "mimetype": "text/x-python",
   "name": "python",
   "nbconvert_exporter": "python",
   "pygments_lexer": "ipython3",
   "version": "3.8.8"
  }
 },
 "nbformat": 4,
 "nbformat_minor": 5
}
