{
 "cells": [
  {
   "cell_type": "code",
   "execution_count": null,
   "id": "1907a774",
   "metadata": {},
   "outputs": [],
   "source": [
    "1. What are escape characters, and how do you use them?\n",
    "Ans: An escape character is a backslash \\ followed by the character you want to insert."
   ]
  },
  {
   "cell_type": "code",
   "execution_count": null,
   "id": "91f15310",
   "metadata": {},
   "outputs": [],
   "source": [
    "2. What do the escape characters n and t stand for?\n",
    "Ans : \\n = newline\n",
    "      \\t = tab"
   ]
  },
  {
   "cell_type": "code",
   "execution_count": null,
   "id": "0791fcee",
   "metadata": {},
   "outputs": [],
   "source": [
    "3. What is the way to include backslash characters in a string?\n",
    "Ans:    txt = \"We are the so-called \\\"Vikings\\\" from the north.\"  -> We are the so-called \"Vikings\" from the north.\n",
    "        txt = \"This will insert one \\\\ (backslash).\" -> This will insert one \\ (backslash).\n",
    "        txt = \"Hello\\nWorld!\" -> Hello\n",
    "                                 World!\n",
    "        txt = \"Hello\\tWorld!\" -> Hello   World!\n",
    "        #This example erases one character (backspace):\n",
    "        txt = \"Hello \\bWorld!\" -> HelloWorld!"
   ]
  },
  {
   "cell_type": "code",
   "execution_count": null,
   "id": "447a4da2",
   "metadata": {},
   "outputs": [],
   "source": [
    "4. The string \"Howl's Moving Castle\" is a correct value. Why isn't the single quote character in the word Howl's not escaped a problem?\n",
    "Ans : If Single quote not escaped then will throw SyntaxError: EOL while scanning string literal"
   ]
  },
  {
   "cell_type": "code",
   "execution_count": null,
   "id": "b0ae1686",
   "metadata": {},
   "outputs": [],
   "source": [
    "6. What are the values of the given expressions?\n",
    "Ans:    'Hello, world!'[1] => e\n",
    "        'Hello, world!'[0:5] =>'Hello'\n",
    "        'Hello, world!'[:5]=>'Hello'\n",
    "        'Hello, world!'[3:]=> 'lo, world!'\n"
   ]
  },
  {
   "cell_type": "code",
   "execution_count": null,
   "id": "6a8969f8",
   "metadata": {},
   "outputs": [],
   "source": [
    "7. What are the values of the following expressions?\n",
    "Ans:    'Hello'.upper() =>'HELLO'\n",
    "        'Hello'.upper().isupper() => True\n",
    "        'Hello'.upper().lower() =>False\n"
   ]
  },
  {
   "cell_type": "code",
   "execution_count": null,
   "id": "06b2488a",
   "metadata": {},
   "outputs": [],
   "source": [
    "8. What are the values of the following expressions?\n",
    "Ans:    'Remember, remember, the fifth of July.'.split() => ['Remember,', 'remember,', 'the', 'fifth', 'of', 'July.']\n",
    "        '-'.join('There can only one.'.split()) => 'There-can-only-one.'\n"
   ]
  },
  {
   "cell_type": "code",
   "execution_count": null,
   "id": "62c78a7e",
   "metadata": {},
   "outputs": [],
   "source": [
    "9. What are the methods for right-justifying, left-justifying, and centering a string?\n",
    "Ans:  ljust() => This function left aligns the string according to the width specified and fills remaining space of line with\n",
    "                 blank space if ‘ fillchr ‘ argument is not passed.\n",
    "      rjust() => This function right aligns the string according to the width specified and fills remaining space of line with\n",
    "                 blank space if ‘ fillchr ‘ argument is not passed.\n",
    "      center() =>This function center aligns the string according to the width specified and fills remaining space of line with \n",
    "                 blank space if ‘ fillchr ‘ argument is not passed."
   ]
  },
  {
   "cell_type": "code",
   "execution_count": null,
   "id": "e1aaf201",
   "metadata": {},
   "outputs": [],
   "source": [
    "10. What is the best way to remove whitespace characters from the start or end?\n",
    "Ans:  \"   A String   \".Trim() -> \"A String\""
   ]
  }
 ],
 "metadata": {
  "kernelspec": {
   "display_name": "Python 3",
   "language": "python",
   "name": "python3"
  },
  "language_info": {
   "codemirror_mode": {
    "name": "ipython",
    "version": 3
   },
   "file_extension": ".py",
   "mimetype": "text/x-python",
   "name": "python",
   "nbconvert_exporter": "python",
   "pygments_lexer": "ipython3",
   "version": "3.8.8"
  }
 },
 "nbformat": 4,
 "nbformat_minor": 5
}
