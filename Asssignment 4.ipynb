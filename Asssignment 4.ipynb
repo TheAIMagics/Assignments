{
 "cells": [
  {
   "cell_type": "raw",
   "id": "e7119ddd",
   "metadata": {},
   "source": [
    "1. What exactly is []?\n",
    "Ans: An empty list"
   ]
  },
  {
   "cell_type": "raw",
   "id": "6c570a26",
   "metadata": {},
   "source": [
    "2. In a list of values stored in a variable called spam, how would you assign the value 'hello' as the third value? (Assume [2, 4, 6, 8, 10] are in spam.)\n",
    "Ans:\n",
    "spam = [2, 4, 6, 8, 10]\n",
    "spam[2]=\"hello\""
   ]
  },
  {
   "cell_type": "raw",
   "id": "a8017961",
   "metadata": {},
   "source": [
    "3. What is the value of spam[int(int('3' * 2) / 11)]?\n",
    "spam = ['a', 'b', 'c', 'd'] \n",
    "Ans: (3*2)               return '33'\n",
    "     int('33')           return 33(typecasted)\n",
    "     (int('3' * 2) / 11) return 33/11=3\n",
    "     3 index from list will get return ie. d"
   ]
  },
  {
   "cell_type": "raw",
   "id": "077c39cd",
   "metadata": {},
   "source": [
    "4. What is the value of spam[-1]?\n",
    "spam = ['a', 'b', 'c', 'd'] \n",
    "Ans: spam[-1] will return element at last index ie. d"
   ]
  },
  {
   "cell_type": "raw",
   "id": "c5c62521",
   "metadata": {},
   "source": [
    "5. What is the value of spam[:2]?\n",
    "spam = ['a', 'b', 'c', 'd'] \n",
    "Ans : spam[:2] will exclude last index hence will return element at 0 & 1 index ie. ['a','b']"
   ]
  },
  {
   "cell_type": "raw",
   "id": "3415f0d0",
   "metadata": {},
   "source": [
    "6. What is the value of bacon.index('cat')?\n",
    "bacon = [3.14, 'cat', 11, 'cat', True]\n",
    "Ans : If there are duplicates in list, then bacon.index('cat') will return index of 1st occurance of that 'cat'ie. 1"
   ]
  },
  {
   "cell_type": "raw",
   "id": "5e9cc4ea",
   "metadata": {},
   "source": [
    "7. How does bacon.append(99) change the look of the list value in bacon?\n",
    "bacon = [3.14, 'cat', 11, 'cat', True]\n",
    "Ans : bacon.append(99) will insert integer 99 as last element of list\n",
    "      [3.14, 'cat', 11, 'cat', True, 99]"
   ]
  },
  {
   "cell_type": "raw",
   "id": "aa98f3c2",
   "metadata": {},
   "source": [
    "8. How does bacon.remove('cat') change the look of the list in bacon?\n",
    "Ans : bacon.remove('cat') will remove 1st occurance of string 'cat'\n",
    "     [3.14, 11, 'cat', True, 99]"
   ]
  },
  {
   "cell_type": "raw",
   "id": "d3ffe7fb",
   "metadata": {},
   "source": [
    "9. What are the list concatenation and list replication operators?\n",
    "Ans: list concatenation (+)\n",
    "        l1 = [1,2,3]\n",
    "        l2 = [4,5,6]\n",
    "        l1+l2\n",
    "     list replication (*)\n",
    "        l1 = [1,2,3]\n",
    "        l1*2"
   ]
  },
  {
   "cell_type": "raw",
   "id": "6dd1fcc8",
   "metadata": {},
   "source": [
    "10. What is difference between the list methods append() and insert()?\n",
    "Ans : append() -> add values only at the end of the list\n",
    "      insert() -> add values anywhere in the list"
   ]
  },
  {
   "cell_type": "raw",
   "id": "b2135e25",
   "metadata": {},
   "source": [
    "11. What are the two methods for removing items from a list?\n",
    "Ans : l1 = ['abc', 1,2 ,'xyz',2,3]\n",
    "      l1.remove(1)\n",
    "      O/P -> ['abc', 2, 'xyz', 2, 3]\n",
    "      l2 = ['Sam','Ram','Jam','Car']\n",
    "      l2.pop(2)\n",
    "      O/p -> ['Sam', 'Ram', 'Car']"
   ]
  },
  {
   "cell_type": "code",
   "execution_count": null,
   "id": "8ac90108",
   "metadata": {},
   "outputs": [],
   "source": [
    "12. Describe how list values and string values are identical.\n",
    "Ans : Both list and string are ordered collection of characters except elements of list can have any type. "
   ]
  },
  {
   "cell_type": "code",
   "execution_count": null,
   "id": "aa774e3c",
   "metadata": {},
   "outputs": [],
   "source": [
    "13. What's the difference between tuples and lists?\n",
    "Ans :                LISTS                                     TUPLE\n",
    "      1. Mutable                                         1. Immutable\n",
    "      2. Iterations are more time consuming              2. Iterations are less time consuming\n",
    "      3. Better for performing opearation like           3. Appropriate for accessing elements\n",
    "          insertion and deletion\n",
    "      4. Consumes more memory                            4. Consumes less memory"
   ]
  },
  {
   "cell_type": "code",
   "execution_count": null,
   "id": "fe82389f",
   "metadata": {},
   "outputs": [],
   "source": [
    "14. How do you type a tuple value that only contains the integer 42?\n",
    "Ans : a = (42,)"
   ]
  },
  {
   "cell_type": "code",
   "execution_count": null,
   "id": "9dea461f",
   "metadata": {},
   "outputs": [],
   "source": [
    "15. How do you get a list value's tuple form? How do you get a tuple value's list form?\n",
    "Ans :  L1 = [1,'Sam', 'xyz',3]\n",
    "        type(L1)\n",
    "        T = tuple(L1)\n",
    "        type(T)"
   ]
  },
  {
   "cell_type": "code",
   "execution_count": null,
   "id": "61801916",
   "metadata": {},
   "outputs": [],
   "source": [
    "16. Variables that \"contain\" list values are not necessarily lists themselves. Instead, what do they contain?\n",
    "Didnt understand question"
   ]
  },
  {
   "cell_type": "code",
   "execution_count": null,
   "id": "fa70e2ef",
   "metadata": {},
   "outputs": [],
   "source": [
    "17. How do you distinguish between copy.copy() and copy.deepcopy()?\n",
    "Ans : copy.copy() = Shallow Copy , It means any changes made to copy of object do reflect in the original object\n",
    "      copy.deepcopy() = Deep copy, It is a process in which copying process occurs recursively. It means first constructing a new collection object and then recursively populating it with copies of the child objects found in the original. In case of deep copy, a copy of object is copied in other object. It means that any changes made to a copy of object do not reflect in the original object. In python, this is implemented using “deepcopy()” function."
   ]
  }
 ],
 "metadata": {
  "kernelspec": {
   "display_name": "Python 3",
   "language": "python",
   "name": "python3"
  },
  "language_info": {
   "codemirror_mode": {
    "name": "ipython",
    "version": 3
   },
   "file_extension": ".py",
   "mimetype": "text/x-python",
   "name": "python",
   "nbconvert_exporter": "python",
   "pygments_lexer": "ipython3",
   "version": "3.8.8"
  }
 },
 "nbformat": 4,
 "nbformat_minor": 5
}
