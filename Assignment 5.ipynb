{
 "cells": [
  {
   "cell_type": "code",
   "execution_count": null,
   "id": "438160d6",
   "metadata": {},
   "outputs": [],
   "source": [
    "1. What does an empty dictionary's code look like?\n",
    "Ans: {}"
   ]
  },
  {
   "cell_type": "code",
   "execution_count": null,
   "id": "28a2ef27",
   "metadata": {},
   "outputs": [],
   "source": [
    "2. What is the value of a dictionary value with the key 'foo' and the value 42?\n",
    "Ans: d1 = {'foo':42}"
   ]
  },
  {
   "cell_type": "code",
   "execution_count": null,
   "id": "ed1d75d7",
   "metadata": {},
   "outputs": [],
   "source": [
    "3. What is the most significant distinction between a dictionary and a list?\n",
    "Ans: dictionary uses key-value pair to access its elemnts while list doesnt have key-value pair concept"
   ]
  },
  {
   "cell_type": "code",
   "execution_count": null,
   "id": "1714d788",
   "metadata": {},
   "outputs": [],
   "source": [
    "4. What happens if you try to access spam['foo'] if spam is {'bar': 100}?\n",
    "Ans: KeyError occured. As no key named 'foo' present in spam"
   ]
  },
  {
   "cell_type": "code",
   "execution_count": null,
   "id": "f9f20d8c",
   "metadata": {},
   "outputs": [],
   "source": [
    "5. If a dictionary is stored in spam, what is the difference between the expressions 'cat' in spam and 'cat' in spam.keys()?\n",
    "Ans = spam ={'sam':'cat'}\n",
    "      print('cat' in spam) =>False\n",
    "      print('cat' in spam.keys()) =>False\n",
    "        \n",
    "      spam ={'cat':'sam'}\n",
    "      print('cat' in spam) =>True\n",
    "      print('cat' in spam.keys()) =>True"
   ]
  },
  {
   "cell_type": "code",
   "execution_count": null,
   "id": "bbf30796",
   "metadata": {},
   "outputs": [],
   "source": [
    "6. If a dictionary is stored in spam, what is the difference between the expressions 'cat' in spam and 'cat' in spam.values()?\n",
    "Ans = spam ={'sam':'cat'}\n",
    "      print('cat' in spam) =>False\n",
    "      print('cat' in spam.values()) =>True\n",
    "        \n",
    "      spam ={'cat':'sam'}\n",
    "      print('cat' in spam) =>True\n",
    "      print('cat' in spam.values()) =>False"
   ]
  },
  {
   "cell_type": "code",
   "execution_count": null,
   "id": "ac3e0ad7",
   "metadata": {},
   "outputs": [],
   "source": [
    "7. What is a shortcut for the following code?\n",
    "if 'color' not in spam:\n",
    "spam['color'] = 'black'\n",
    "Ans:    spam = {}\n",
    "        if 'color' not in spam:\n",
    "            spam['color'] = 'black'\n",
    "        print(spam)"
   ]
  },
  {
   "cell_type": "code",
   "execution_count": null,
   "id": "88200bc7",
   "metadata": {},
   "outputs": [],
   "source": [
    "8. How do you \"pretty print\" dictionary values using which module and function?\n",
    "Ans: module => pprint \n",
    "     function => pprint()\n",
    "    The pprint() makes dictionary more readable. What it does is to break each dictionary element in the array right after \n",
    "     the commas while also sorting the dictionary’s values by key."
   ]
  }
 ],
 "metadata": {
  "kernelspec": {
   "display_name": "Python 3",
   "language": "python",
   "name": "python3"
  },
  "language_info": {
   "codemirror_mode": {
    "name": "ipython",
    "version": 3
   },
   "file_extension": ".py",
   "mimetype": "text/x-python",
   "name": "python",
   "nbconvert_exporter": "python",
   "pygments_lexer": "ipython3",
   "version": "3.8.8"
  }
 },
 "nbformat": 4,
 "nbformat_minor": 5
}
